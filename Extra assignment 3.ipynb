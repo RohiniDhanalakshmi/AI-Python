{
 "cells": [
  {
   "cell_type": "code",
   "execution_count": 1,
   "id": "f984e2cf-117f-4bf7-8e4a-7187aa5ffd34",
   "metadata": {},
   "outputs": [
    {
     "name": "stdout",
     "output_type": "stream",
     "text": [
      "Correct\n"
     ]
    }
   ],
   "source": [
    "num=10\n",
    "if(num==10):\n",
    "    print(\"Correct\")\n",
    "else:\n",
    "    print(\"wrong\")"
   ]
  },
  {
   "cell_type": "code",
   "execution_count": 6,
   "id": "4d3f2827-6d4e-4f21-9631-2770dd9da2b7",
   "metadata": {},
   "outputs": [
    {
     "name": "stdin",
     "output_type": "stream",
     "text": [
      "Enter the password: HOPE@123\n"
     ]
    },
    {
     "name": "stdout",
     "output_type": "stream",
     "text": [
      "Your password is correct\n"
     ]
    }
   ],
   "source": [
    "word=input(\"Enter the password:\")\n",
    "if(word==\"HOPE@123\"):\n",
    "    print(\"Your password is correct\")\n",
    "else:\n",
    "    print(\"Your password is wrong\")\n"
   ]
  },
  {
   "cell_type": "code",
   "execution_count": 7,
   "id": "f50d959b-8edd-4c38-8f14-9ec1c5628855",
   "metadata": {},
   "outputs": [
    {
     "name": "stdin",
     "output_type": "stream",
     "text": [
      "Enter your age: 66\n"
     ]
    },
    {
     "name": "stdout",
     "output_type": "stream",
     "text": [
      "citizen\n"
     ]
    }
   ],
   "source": [
    "age=int(input(\"Enter your age:\"))\n",
    "if(age<18):\n",
    "    print(\"children\")\n",
    "elif(age<40):\n",
    "    print(\"Aduld\")\n",
    "elif(age<70):\n",
    "    print(\"citizen\")\n",
    "else:\n",
    "    print(\"senior citizen\")"
   ]
  },
  {
   "cell_type": "code",
   "execution_count": 11,
   "id": "ca990049-b09e-4243-b6d5-bea552999796",
   "metadata": {},
   "outputs": [
    {
     "name": "stdin",
     "output_type": "stream",
     "text": [
      "Enter the number: 50\n"
     ]
    },
    {
     "name": "stdout",
     "output_type": "stream",
     "text": [
      "positive\n"
     ]
    }
   ],
   "source": [
    "num=int(input(\"Enter the number:\"))\n",
    "if(num>0):\n",
    "    print(\"positive\")\n",
    "else:\n",
    "    print(\"negative\")"
   ]
  },
  {
   "cell_type": "code",
   "execution_count": 17,
   "id": "b8054345-e767-432c-aed6-16d65e72d799",
   "metadata": {},
   "outputs": [
    {
     "name": "stdin",
     "output_type": "stream",
     "text": [
      "Enter the number: 22\n"
     ]
    },
    {
     "name": "stdout",
     "output_type": "stream",
     "text": [
      "No is not divided by 5\n"
     ]
    }
   ],
   "source": [
    "tot=int(input(\"Enter the number:\"))\n",
    "if(tot%5==0):\n",
    "    print(\"No is divided by 5\")\n",
    "else:\n",
    "    print(\"No is not divided by 5\")"
   ]
  },
  {
   "cell_type": "code",
   "execution_count": null,
   "id": "69cbc11b-a4c0-4244-bd8d-fee456dd8c02",
   "metadata": {},
   "outputs": [],
   "source": []
  }
 ],
 "metadata": {
  "kernelspec": {
   "display_name": "Python 3 (ipykernel)",
   "language": "python",
   "name": "python3"
  },
  "language_info": {
   "codemirror_mode": {
    "name": "ipython",
    "version": 3
   },
   "file_extension": ".py",
   "mimetype": "text/x-python",
   "name": "python",
   "nbconvert_exporter": "python",
   "pygments_lexer": "ipython3",
   "version": "3.11.7"
  }
 },
 "nbformat": 4,
 "nbformat_minor": 5
}
