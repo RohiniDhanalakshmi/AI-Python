{
 "cells": [
  {
   "cell_type": "markdown",
   "id": "9ce436af-3b0f-41db-8f61-ffbce9b5c89d",
   "metadata": {},
   "source": [
    "print(\"Hope AI\")"
   ]
  },
  {
   "cell_type": "code",
   "execution_count": 2,
   "id": "9d84861f-090f-417e-b0e8-d54d96a764b6",
   "metadata": {},
   "outputs": [
    {
     "name": "stdin",
     "output_type": "stream",
     "text": [
      "Enter your institute name?: Hope AI\n"
     ]
    }
   ],
   "source": [
    "name=input(\"Enter your institute name?:\")"
   ]
  },
  {
   "cell_type": "code",
   "execution_count": 3,
   "id": "f837662e-7eb4-42cb-a1a2-07c97219d521",
   "metadata": {},
   "outputs": [
    {
     "name": "stdin",
     "output_type": "stream",
     "text": [
      "Enter your name: Rohini Shakthivel\n",
      "Enter your age: 60\n",
      "Enter your school name: Dr.R.S.M.Higher Secondary school\n",
      "Enter your degree: BA\n"
     ]
    }
   ],
   "source": [
    "name=input(\"Enter your name:\")\n",
    "age=int(input(\"Enter your age:\"))\n",
    "school=input(\"Enter your school name:\")\n",
    "degree=input(\"Enter your degree:\")"
   ]
  },
  {
   "cell_type": "code",
   "execution_count": 6,
   "id": "d3e6e8ea-87e9-4d0d-a04b-1e71aa991b46",
   "metadata": {},
   "outputs": [
    {
     "name": "stdout",
     "output_type": "stream",
     "text": [
      "77\n"
     ]
    }
   ],
   "source": [
    "num1=43\n",
    "num2=34\n",
    "add=num1+num2\n",
    "print(add)"
   ]
  },
  {
   "cell_type": "code",
   "execution_count": 8,
   "id": "605a403e-86d0-4704-81ae-9f8fa901a0fa",
   "metadata": {},
   "outputs": [
    {
     "name": "stdout",
     "output_type": "stream",
     "text": [
      "9\n"
     ]
    }
   ],
   "source": [
    "num1=43\n",
    "num2=34\n",
    "sub=num1-num2\n",
    "print(sub)"
   ]
  },
  {
   "cell_type": "code",
   "execution_count": 9,
   "id": "e3e26856-7bcc-492f-9a36-2c851b4407c8",
   "metadata": {},
   "outputs": [
    {
     "name": "stdout",
     "output_type": "stream",
     "text": [
      "6111\n"
     ]
    }
   ],
   "source": [
    "num1=63\n",
    "num2=97\n",
    "mul=num1*num2\n",
    "print(mul)"
   ]
  },
  {
   "cell_type": "code",
   "execution_count": 10,
   "id": "7b25f4eb-0fb0-40d6-84ee-15c1f7afd78d",
   "metadata": {},
   "outputs": [
    {
     "name": "stdout",
     "output_type": "stream",
     "text": [
      "2.4516129032258065\n"
     ]
    }
   ],
   "source": [
    "num1=76\n",
    "num2=31\n",
    "divi=num1/num2\n",
    "print(divi)"
   ]
  },
  {
   "cell_type": "code",
   "execution_count": 11,
   "id": "7898685f-ffab-4715-bdfc-6677ff2582cc",
   "metadata": {},
   "outputs": [
    {
     "name": "stdout",
     "output_type": "stream",
     "text": [
      "2\n"
     ]
    }
   ],
   "source": [
    "num1=76\n",
    "num2=31\n",
    "floor_divi=num1//num2\n",
    "print(floor_divi)"
   ]
  },
  {
   "cell_type": "code",
   "execution_count": 13,
   "id": "0a932160-e897-4e9b-a220-58db72dd8abb",
   "metadata": {},
   "outputs": [
    {
     "name": "stdout",
     "output_type": "stream",
     "text": [
      "14\n"
     ]
    }
   ],
   "source": [
    "num1=76\n",
    "num2=31\n",
    "mudulo=num1%num2\n",
    "print(mudulo)\n"
   ]
  },
  {
   "cell_type": "code",
   "execution_count": null,
   "id": "3e6bbc90-ade3-4211-b358-26ae4544dcd1",
   "metadata": {},
   "outputs": [],
   "source": []
  }
 ],
 "metadata": {
  "kernelspec": {
   "display_name": "Python 3 (ipykernel)",
   "language": "python",
   "name": "python3"
  },
  "language_info": {
   "codemirror_mode": {
    "name": "ipython",
    "version": 3
   },
   "file_extension": ".py",
   "mimetype": "text/x-python",
   "name": "python",
   "nbconvert_exporter": "python",
   "pygments_lexer": "ipython3",
   "version": "3.11.7"
  }
 },
 "nbformat": 4,
 "nbformat_minor": 5
}
