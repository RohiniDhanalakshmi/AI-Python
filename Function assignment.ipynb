{
 "cells": [
  {
   "cell_type": "code",
   "execution_count": 9,
   "id": "a6f4343e-85ae-4607-9278-1f79186cc1c7",
   "metadata": {},
   "outputs": [
    {
     "name": "stdout",
     "output_type": "stream",
     "text": [
      "Machine Learning, Natural Learning, Vision,Robotics,Speech Processing,Natural Language Processing\n"
     ]
    }
   ],
   "source": [
    "class SubfieldsINAI():\n",
    "    def Subfields():\n",
    "        list=[\"Machine Learning, Natural Learning, Vision,Robotics,Speech Processing,Natural Language Processing\"]\n",
    "        for items in list:\n",
    "            print(items)\n",
    "SubfieldsINAI.Subfields()"
   ]
  },
  {
   "cell_type": "code",
   "execution_count": 11,
   "id": "3907d5c6-26cb-4231-bf1d-1e244fd9b343",
   "metadata": {},
   "outputs": [
    {
     "name": "stdin",
     "output_type": "stream",
     "text": [
      "Enter the number: 52452\n"
     ]
    },
    {
     "name": "stdout",
     "output_type": "stream",
     "text": [
      "Even number 52452\n"
     ]
    }
   ],
   "source": [
    "def OddEven():\n",
    "        num=int(input(\"Enter the number:\"))\n",
    "        if(num%2==0):\n",
    "            print(\"Even number\",num)\n",
    "        else:\n",
    "            print(\"odd number\",num)\n",
    "OddEven()"
   ]
  },
  {
   "cell_type": "code",
   "execution_count": 18,
   "id": "63210bb8-5f98-4d11-99fa-f88592addeaf",
   "metadata": {},
   "outputs": [
    {
     "name": "stdin",
     "output_type": "stream",
     "text": [
      "Enter the gender: female\n",
      "Enter the age: 72\n"
     ]
    },
    {
     "name": "stdout",
     "output_type": "stream",
     "text": [
      "elegible\n"
     ]
    }
   ],
   "source": [
    "def Elegible():\n",
    "    gender=input(\"Enter the gender:\")\n",
    "    age=int(input(\"Enter the age:\"))\n",
    "    if(gender==\"male\"):\n",
    "        if(age>=25):\n",
    "            print(\"elegible\")\n",
    "        else:\n",
    "            print(\"not elegible\")\n",
    "    if(gender==\"female\"):\n",
    "        if(age>=20):\n",
    "            print(\"elegible\")\n",
    "        else:\n",
    "            print(\"not elegible\")\n",
    "Elegible()\n",
    "            "
   ]
  },
  {
   "cell_type": "code",
   "execution_count": 32,
   "id": "62627b3e-8e99-4d1c-b655-25aaebc362e2",
   "metadata": {},
   "outputs": [
    {
     "name": "stdin",
     "output_type": "stream",
     "text": [
      "Enter the tamil mark: 98\n",
      "Enter the english mark: 87\n",
      "Enter the maths mark: 95\n",
      "Enter the science mark: 95\n",
      "Enter the social mark: 93\n"
     ]
    },
    {
     "name": "stdout",
     "output_type": "stream",
     "text": [
      "pass 98\n",
      "pass 87\n",
      "pass 95\n",
      "pass 95\n",
      "pass 93\n",
      "total 468\n",
      "93.60000000000001\n"
     ]
    }
   ],
   "source": [
    "def Percentage():\n",
    "    tam=int(input(\"Enter the tamil mark:\"))\n",
    "    eng=int(input(\"Enter the english mark:\"))\n",
    "    math=int(input(\"Enter the maths mark:\"))\n",
    "    sci=int(input(\"Enter the science mark:\"))\n",
    "    ss=int(input(\"Enter the social mark:\"))\n",
    "    if(tam>=30):\n",
    "        print(\"pass\",tam)\n",
    "    else:\n",
    "        print(\"fail\",tam)\n",
    "    if(eng>=30):\n",
    "        print(\"pass\",eng)\n",
    "    else:\n",
    "        print(\"fail\",eng)\n",
    "    if(math>=30):\n",
    "        print(\"pass\",math)\n",
    "    else:\n",
    "        print(\"fail\",math)\n",
    "    if(sci>=30):\n",
    "        print(\"pass\",sci)\n",
    "    else:\n",
    "        print(\"fail\",sci)\n",
    "    if(ss>=30): \n",
    "        print(\"pass\",ss)\n",
    "    else:\n",
    "        print(\"fail\",ss)\n",
    "    total=tam+eng+math+sci+ss\n",
    "    print(\"total\",total)\n",
    "    per=(total/500)*100\n",
    "    print(per)\n",
    "Percentage()\n",
    " "
   ]
  },
  {
   "cell_type": "code",
   "execution_count": 33,
   "id": "d97a4f5d-daa0-4de5-af9e-8f3074363b0e",
   "metadata": {},
   "outputs": [
    {
     "name": "stdin",
     "output_type": "stream",
     "text": [
      "Enter the height: 32\n",
      "Enter the breadth: 34\n"
     ]
    },
    {
     "name": "stdout",
     "output_type": "stream",
     "text": [
      "544.0\n"
     ]
    }
   ],
   "source": [
    "class triangleperimeter():\n",
    "    def triangle():   \n",
    "        height=int(input(\"Enter the height:\"))\n",
    "        breadth=int(input(\"Enter the breadth:\"))\n",
    "        Area_Triangle=(height*breadth)/2\n",
    "        print(Area_Triangle)\n",
    "    def perimeter():\n",
    "        hei1=int(input(\"Enter the height:\"))\n",
    "        hei2=int(input(\"Enter the height2:\"))\n",
    "        bre=int(input(\"Enter the breadth:\"))\n",
    "        perimeter_triangle=hei1+hei2+bre\n",
    "        print(perimeter_triangle)\n",
    "triangleperimeter.triangle()\n"
   ]
  },
  {
   "cell_type": "code",
   "execution_count": 34,
   "id": "9ac82981-79a4-422f-bc27-e7cdcb90169a",
   "metadata": {},
   "outputs": [
    {
     "name": "stdin",
     "output_type": "stream",
     "text": [
      "Enter the height: 2\n",
      "Enter the height2: 4\n",
      "Enter the breadth: 4\n"
     ]
    },
    {
     "name": "stdout",
     "output_type": "stream",
     "text": [
      "10\n"
     ]
    }
   ],
   "source": [
    "triangleperimeter.perimeter()"
   ]
  },
  {
   "cell_type": "code",
   "execution_count": null,
   "id": "635005be-2088-40ca-af7a-9036e828d3bb",
   "metadata": {},
   "outputs": [],
   "source": []
  }
 ],
 "metadata": {
  "kernelspec": {
   "display_name": "Python 3 (ipykernel)",
   "language": "python",
   "name": "python3"
  },
  "language_info": {
   "codemirror_mode": {
    "name": "ipython",
    "version": 3
   },
   "file_extension": ".py",
   "mimetype": "text/x-python",
   "name": "python",
   "nbconvert_exporter": "python",
   "pygments_lexer": "ipython3",
   "version": "3.11.7"
  }
 },
 "nbformat": 4,
 "nbformat_minor": 5
}
