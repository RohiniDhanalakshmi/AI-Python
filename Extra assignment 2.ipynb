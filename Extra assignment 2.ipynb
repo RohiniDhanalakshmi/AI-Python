{
 "cells": [
  {
   "cell_type": "code",
   "execution_count": 1,
   "id": "5c77b3ff-8016-489a-98de-13a55717e8a7",
   "metadata": {},
   "outputs": [
    {
     "name": "stdout",
     "output_type": "stream",
     "text": [
      "0\n",
      "1\n",
      "2\n",
      "3\n",
      "4\n",
      "5\n",
      "6\n",
      "7\n",
      "8\n",
      "9\n",
      "10\n",
      "11\n",
      "12\n",
      "13\n",
      "14\n",
      "15\n",
      "16\n",
      "17\n",
      "18\n",
      "19\n"
     ]
    }
   ],
   "source": [
    "for mul in range(0,20):\n",
    "    print(mul)\n"
   ]
  },
  {
   "cell_type": "code",
   "execution_count": 3,
   "id": "58067970-a78e-4fc2-b2a1-97f9f6181ad1",
   "metadata": {},
   "outputs": [
    {
     "data": {
      "text/plain": [
       "[10, 11, 12, 13, 14, 15, 16, 17, 18, 19]"
      ]
     },
     "execution_count": 3,
     "metadata": {},
     "output_type": "execute_result"
    }
   ],
   "source": [
    "list(range(10,20))"
   ]
  },
  {
   "cell_type": "code",
   "execution_count": 4,
   "id": "f77ea94c-94f9-423f-a43f-8fb56a3c3275",
   "metadata": {},
   "outputs": [
    {
     "name": "stdout",
     "output_type": "stream",
     "text": [
      "7\n"
     ]
    }
   ],
   "source": [
    "items=[10,20,14,55,43,87,86]\n",
    "list=len(items)\n",
    "print(list)"
   ]
  },
  {
   "cell_type": "code",
   "execution_count": 24,
   "id": "1dfb9d43-7d3b-4d7c-812d-f9df4f288015",
   "metadata": {},
   "outputs": [
    {
     "name": "stdout",
     "output_type": "stream",
     "text": [
      "['A', 'R', 'T', 'I', 'F', 'I', 'C', 'I', 'A', 'L', ' ', 'I', 'N', 'T', 'E', 'L', 'L', 'I', 'G', 'E', 'N', 'C', 'E']\n"
     ]
    }
   ],
   "source": [
    "str=\"ARTIFICIAL INTELLIGENCE\"\n",
    "lst=[]\n",
    "for letter in str:\n",
    "    lst.append(letter)\n",
    "print(lst)"
   ]
  },
  {
   "cell_type": "code",
   "execution_count": 25,
   "id": "c1b33d9d-2a10-4839-911c-0b1a5039774d",
   "metadata": {},
   "outputs": [
    {
     "name": "stdin",
     "output_type": "stream",
     "text": [
      "-Your Name- Rohini Shakthivel\n",
      "-Your Age- 60\n",
      "-Your Profession- Teacher\n"
     ]
    }
   ],
   "source": [
    "name=input(\"-Your Name-\")\n",
    "age=input(\"-Your Age-\")\n",
    "profe=input(\"-Your Profession-\")"
   ]
  },
  {
   "cell_type": "code",
   "execution_count": 26,
   "id": "9fadf539-4629-4166-9a3f-886ec430b748",
   "metadata": {},
   "outputs": [
    {
     "name": "stdout",
     "output_type": "stream",
     "text": [
      "(1, 'Welcome', 2, 'Hope')\n"
     ]
    }
   ],
   "source": [
    "var=(1,\"Welcome\",2,\"Hope\")\n",
    "print(var)"
   ]
  },
  {
   "cell_type": "code",
   "execution_count": 27,
   "id": "4644f5b9-f9b1-4c05-ac35-5d7acce59dbb",
   "metadata": {},
   "outputs": [
    {
     "name": "stdout",
     "output_type": "stream",
     "text": [
      "(0, 1, 2, 3, 'python', 'Hope')\n"
     ]
    }
   ],
   "source": [
    "tuple1=(0,1,2,3)\n",
    "tuple2=(\"python\",\"Hope\")\n",
    "result=tuple1+tuple2\n",
    "print(result)\n",
    "        "
   ]
  },
  {
   "cell_type": "code",
   "execution_count": 68,
   "id": "f03629ff-65a8-4988-9cdb-52511f313451",
   "metadata": {},
   "outputs": [
    {
     "name": "stdout",
     "output_type": "stream",
     "text": [
      "19 odd\n",
      "25 odd\n",
      "1 odd\n"
     ]
    }
   ],
   "source": [
    "item=[20,10,16,19,25,1,276,188]\n",
    "for num in item:\n",
    "    if(num%2==1):\n",
    "       print(num,\"odd\")"
   ]
  },
  {
   "cell_type": "code",
   "execution_count": 74,
   "id": "07646240-1841-4011-988f-0c272974fb6d",
   "metadata": {},
   "outputs": [
    {
     "name": "stdout",
     "output_type": "stream",
     "text": [
      "20 even\n",
      "10 even\n",
      "16 even\n",
      "276 even\n",
      "188 even\n"
     ]
    }
   ],
   "source": [
    "item=[20,10,16,19,25,1,276,188]\n",
    "for list in item:\n",
    "    if(list%2==0):\n",
    "        print(list,\"even\")"
   ]
  },
  {
   "cell_type": "code",
   "execution_count": null,
   "id": "9c3c2ad5-6ef0-4af0-91d5-7a0e31187dc4",
   "metadata": {},
   "outputs": [],
   "source": []
  }
 ],
 "metadata": {
  "kernelspec": {
   "display_name": "Python 3 (ipykernel)",
   "language": "python",
   "name": "python3"
  },
  "language_info": {
   "codemirror_mode": {
    "name": "ipython",
    "version": 3
   },
   "file_extension": ".py",
   "mimetype": "text/x-python",
   "name": "python",
   "nbconvert_exporter": "python",
   "pygments_lexer": "ipython3",
   "version": "3.11.7"
  }
 },
 "nbformat": 4,
 "nbformat_minor": 5
}
