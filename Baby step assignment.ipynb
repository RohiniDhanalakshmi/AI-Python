{
 "cells": [
  {
   "cell_type": "code",
   "execution_count": 1,
   "id": "87aa29c4-d298-4a70-b0a6-0fe6418a2b76",
   "metadata": {},
   "outputs": [
    {
     "name": "stdout",
     "output_type": "stream",
     "text": [
      "Welcome to Assignment\n"
     ]
    }
   ],
   "source": [
    "print(\"Welcome to Assignment\")"
   ]
  },
  {
   "cell_type": "code",
   "execution_count": 2,
   "id": "3311ed18-e86d-45a3-8642-7c02a9b23eb5",
   "metadata": {},
   "outputs": [
    {
     "name": "stdout",
     "output_type": "stream",
     "text": [
      "40\n"
     ]
    }
   ],
   "source": [
    "num1=10\n",
    "num2=30\n",
    "add=num1+num2\n",
    "print(add)"
   ]
  },
  {
   "cell_type": "code",
   "execution_count": 4,
   "id": "d7d6462d-62c1-47c1-913e-5f61bb2e8a9d",
   "metadata": {},
   "outputs": [
    {
     "name": "stdin",
     "output_type": "stream",
     "text": [
      "Enter the height: 155\n",
      "Enter the weight: 60\n"
     ]
    },
    {
     "name": "stdout",
     "output_type": "stream",
     "text": [
      "healthy\n"
     ]
    }
   ],
   "source": [
    "height=float(input(\"Enter the height:\"))\n",
    "weight=float(input(\"Enter the weight:\"))\n",
    "bmi=weight/(height/100)**2\n",
    "if(bmi<=18.5):\n",
    "    prit(\"underweight\")\n",
    "elif(bmi<=25):\n",
    "    print(\"healthy\")\n",
    "elif(bmi<=30):\n",
    "    print(\"weight\")\n",
    "else:\n",
    "    print(\"over weight\")\n",
    "    "
   ]
  },
  {
   "cell_type": "code",
   "execution_count": null,
   "id": "f52bc733-0a49-4945-a42e-de8dc21888c5",
   "metadata": {},
   "outputs": [],
   "source": []
  }
 ],
 "metadata": {
  "kernelspec": {
   "display_name": "Python 3 (ipykernel)",
   "language": "python",
   "name": "python3"
  },
  "language_info": {
   "codemirror_mode": {
    "name": "ipython",
    "version": 3
   },
   "file_extension": ".py",
   "mimetype": "text/x-python",
   "name": "python",
   "nbconvert_exporter": "python",
   "pygments_lexer": "ipython3",
   "version": "3.11.7"
  }
 },
 "nbformat": 4,
 "nbformat_minor": 5
}
